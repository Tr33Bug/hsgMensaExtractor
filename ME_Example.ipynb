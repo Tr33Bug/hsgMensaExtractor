{
 "cells": [
  {
   "cell_type": "markdown",
   "metadata": {},
   "source": [
    "# MensaExtractor Playground"
   ]
  },
  {
   "cell_type": "code",
   "execution_count": null,
   "metadata": {},
   "outputs": [],
   "source": [
    "# Install dependencies:\n",
    "%pip install -r requirements.txt"
   ]
  },
  {
   "cell_type": "code",
   "execution_count": 3,
   "metadata": {},
   "outputs": [],
   "source": [
    "# Import the function\n",
    "from mepy.mensaExtractor import get_mensaplan"
   ]
  },
  {
   "cell_type": "code",
   "execution_count": 4,
   "metadata": {},
   "outputs": [],
   "source": [
    "# get the mensaplan as a pandas dataframe from the HSG\n",
    "df_mensa_hsg = get_mensaplan(\n",
    "    week=1, # week 1 = current week, week 2 = next week\n",
    "    mensa_location=\"hsg\", # set mensa location to hsg\n",
    "    path=\"mensaplan_hsg.pdf\", # set the name of the mensaplan pdf file\n",
    "    get_pdf=False # set to True to keep the pdf file\n",
    ")"
   ]
  },
  {
   "cell_type": "code",
   "execution_count": 5,
   "metadata": {},
   "outputs": [
    {
     "data": {
      "text/html": [
       "<div>\n",
       "<style scoped>\n",
       "    .dataframe tbody tr th:only-of-type {\n",
       "        vertical-align: middle;\n",
       "    }\n",
       "\n",
       "    .dataframe tbody tr th {\n",
       "        vertical-align: top;\n",
       "    }\n",
       "\n",
       "    .dataframe thead th {\n",
       "        text-align: right;\n",
       "    }\n",
       "</style>\n",
       "<table border=\"1\" class=\"dataframe\">\n",
       "  <thead>\n",
       "    <tr style=\"text-align: right;\">\n",
       "      <th></th>\n",
       "      <th>Fast Lane</th>\n",
       "      <th>Fast Lane Price</th>\n",
       "      <th>Daily Favourites</th>\n",
       "      <th>Daily Favourites Price</th>\n",
       "      <th>Lifestyle</th>\n",
       "      <th>Lifestyle Price</th>\n",
       "    </tr>\n",
       "  </thead>\n",
       "  <tbody>\n",
       "    <tr>\n",
       "      <th>0</th>\n",
       "      <td>Spaghetti Carbonara mit Reibkäse</td>\n",
       "      <td>CHF 6.30</td>\n",
       "      <td>Schweinsbratwurstmit Zwiebelsauce,  Röstiund G...</td>\n",
       "      <td>CHF 10.50</td>\n",
       "      <td>Kichererbsen\"Stro mit Couscous und Romanesco  ...</td>\n",
       "      <td>CHF 8.90</td>\n",
       "    </tr>\n",
       "    <tr>\n",
       "      <th>1</th>\n",
       "      <td>Pizokelpfannemit Gemüse,  Käse und Rucola</td>\n",
       "      <td>CHF 6.30</td>\n",
       "      <td>Pouletragout \"Tessiner Art\" mit Nudeln und Bro...</td>\n",
       "      <td>CHF 10.50</td>\n",
       "      <td>Frühlingsrollen mit Sauersauceund Ja dazu ein ...</td>\n",
       "      <td>CHF 8.90</td>\n",
       "    </tr>\n",
       "    <tr>\n",
       "      <th>2</th>\n",
       "      <td>Älpler Maccaroni mit Röstzwiebeln</td>\n",
       "      <td>CHF 6.30</td>\n",
       "      <td>Brät Cordon bleu mit Pommes und Broccoli</td>\n",
       "      <td>CHF 10.50</td>\n",
       "      <td>Auberginenpiccata mit Tomatenspagh Menusalat  ...</td>\n",
       "      <td>CHF 8.90</td>\n",
       "    </tr>\n",
       "    <tr>\n",
       "      <th>3</th>\n",
       "      <td>\"Nasi Goreng\" Reispfannemit Poulet und Gemüse</td>\n",
       "      <td>CHF 6.30</td>\n",
       "      <td>Rindsfleischvogel mit Kartoffelstock und Erbse...</td>\n",
       "      <td>CHF 10.50</td>\n",
       "      <td>Rotes Thaicurry mit Gemüseund T Basmatireis  A...</td>\n",
       "      <td>CHF 8.90</td>\n",
       "    </tr>\n",
       "    <tr>\n",
       "      <th>4</th>\n",
       "      <td>Appenzeller Chäshörnli mit Röstzwiebeln</td>\n",
       "      <td>CHF 6.30</td>\n",
       "      <td>Ungarisches Gulasch mit Fusilli und Bohnen</td>\n",
       "      <td>CHF 8.90</td>\n",
       "      <td>Paniertes Kabeljau mit Reis,  Spinat,  Tartars...</td>\n",
       "      <td>CHF 10.50</td>\n",
       "    </tr>\n",
       "  </tbody>\n",
       "</table>\n",
       "</div>"
      ],
      "text/plain": [
       "                                       Fast Lane Fast Lane Price  \\\n",
       "0               Spaghetti Carbonara mit Reibkäse        CHF 6.30   \n",
       "1      Pizokelpfannemit Gemüse,  Käse und Rucola        CHF 6.30   \n",
       "2              Älpler Maccaroni mit Röstzwiebeln        CHF 6.30   \n",
       "3  \"Nasi Goreng\" Reispfannemit Poulet und Gemüse        CHF 6.30   \n",
       "4        Appenzeller Chäshörnli mit Röstzwiebeln        CHF 6.30   \n",
       "\n",
       "                                    Daily Favourites Daily Favourites Price  \\\n",
       "0  Schweinsbratwurstmit Zwiebelsauce,  Röstiund G...              CHF 10.50   \n",
       "1  Pouletragout \"Tessiner Art\" mit Nudeln und Bro...              CHF 10.50   \n",
       "2           Brät Cordon bleu mit Pommes und Broccoli              CHF 10.50   \n",
       "3  Rindsfleischvogel mit Kartoffelstock und Erbse...              CHF 10.50   \n",
       "4         Ungarisches Gulasch mit Fusilli und Bohnen               CHF 8.90   \n",
       "\n",
       "                                           Lifestyle Lifestyle Price  \n",
       "0  Kichererbsen\"Stro mit Couscous und Romanesco  ...        CHF 8.90  \n",
       "1  Frühlingsrollen mit Sauersauceund Ja dazu ein ...        CHF 8.90  \n",
       "2  Auberginenpiccata mit Tomatenspagh Menusalat  ...        CHF 8.90  \n",
       "3  Rotes Thaicurry mit Gemüseund T Basmatireis  A...        CHF 8.90  \n",
       "4  Paniertes Kabeljau mit Reis,  Spinat,  Tartars...       CHF 10.50  "
      ]
     },
     "execution_count": 5,
     "metadata": {},
     "output_type": "execute_result"
    }
   ],
   "source": [
    "df_mensa_hsg.head()"
   ]
  },
  {
   "cell_type": "code",
   "execution_count": 6,
   "metadata": {},
   "outputs": [],
   "source": [
    "# get the mensaplan as a pandas dataframe from the fhs (OST)\n",
    "df_mensa_fhs = get_mensaplan(\n",
    "    week=1,\n",
    "    mensa_location=\"fhs\", \n",
    "    path=\"mensaplan_fhs.pdf\", \n",
    "    get_pdf=False\n",
    ")"
   ]
  },
  {
   "cell_type": "code",
   "execution_count": 7,
   "metadata": {},
   "outputs": [
    {
     "data": {
      "text/html": [
       "<div>\n",
       "<style scoped>\n",
       "    .dataframe tbody tr th:only-of-type {\n",
       "        vertical-align: middle;\n",
       "    }\n",
       "\n",
       "    .dataframe tbody tr th {\n",
       "        vertical-align: top;\n",
       "    }\n",
       "\n",
       "    .dataframe thead th {\n",
       "        text-align: right;\n",
       "    }\n",
       "</style>\n",
       "<table border=\"1\" class=\"dataframe\">\n",
       "  <thead>\n",
       "    <tr style=\"text-align: right;\">\n",
       "      <th></th>\n",
       "      <th>Fast Lane</th>\n",
       "      <th>Fast Lane Price</th>\n",
       "      <th>Daily Favourites</th>\n",
       "      <th>Daily Favourites Price</th>\n",
       "      <th>Lifestyle</th>\n",
       "      <th>Lifestyle Price</th>\n",
       "    </tr>\n",
       "  </thead>\n",
       "  <tbody>\n",
       "    <tr>\n",
       "      <th>0</th>\n",
       "      <td>Poulet Casimir Mit Reis</td>\n",
       "      <td>CHF 8.00</td>\n",
       "      <td>Ofenfleischkäse an Zwiebelsauce mit Stock und ...</td>\n",
       "      <td>CHF 9.50</td>\n",
       "      <td>Mexicaneintopf in der Weizentortilla</td>\n",
       "      <td>CHF 8.50</td>\n",
       "    </tr>\n",
       "    <tr>\n",
       "      <th>1</th>\n",
       "      <td>Kartoffelgnocchi an Chinque Pi</td>\n",
       "      <td>CHF 8.00</td>\n",
       "      <td>Poulet Cordon Bleu mit Spiralen und Rosenkohl</td>\n",
       "      <td>CHF 9.50</td>\n",
       "      <td>Gemüse Paella</td>\n",
       "      <td>CHF 8.50</td>\n",
       "    </tr>\n",
       "    <tr>\n",
       "      <th>2</th>\n",
       "      <td>Gemüse-Ragout Im Blätterteigpastetli</td>\n",
       "      <td>CHF 8.00</td>\n",
       "      <td>Rindsbraten an Jus mit Spätzli und Bohnen</td>\n",
       "      <td>CHF 9.50</td>\n",
       "      <td>Pasta mit Spargeln</td>\n",
       "      <td>CHF 8.50</td>\n",
       "    </tr>\n",
       "    <tr>\n",
       "      <th>3</th>\n",
       "      <td>Schupfnudeln mit Fackelspiessan Jus</td>\n",
       "      <td>CHF 8.00</td>\n",
       "      <td>Rinds Stroganoff mit Reis und Broccoli</td>\n",
       "      <td>CHF 9.50</td>\n",
       "      <td>Kartoffelpfanne mit Lauch,  Peperoni,  und Kürbis</td>\n",
       "      <td>CHF 8.50</td>\n",
       "    </tr>\n",
       "    <tr>\n",
       "      <th>4</th>\n",
       "      <td>Spätzligratin \"Zürcher Art\"</td>\n",
       "      <td>CHF 8.00</td>\n",
       "      <td>Kalbsbraten Schmorjus mit Polenta und Zucchetti</td>\n",
       "      <td>CHF 9.50</td>\n",
       "      <td>Kräuter Cous Cous mit Tofu</td>\n",
       "      <td>CHF 8.50</td>\n",
       "    </tr>\n",
       "  </tbody>\n",
       "</table>\n",
       "</div>"
      ],
      "text/plain": [
       "                              Fast Lane Fast Lane Price  \\\n",
       "0               Poulet Casimir Mit Reis        CHF 8.00   \n",
       "1        Kartoffelgnocchi an Chinque Pi        CHF 8.00   \n",
       "2  Gemüse-Ragout Im Blätterteigpastetli        CHF 8.00   \n",
       "3   Schupfnudeln mit Fackelspiessan Jus        CHF 8.00   \n",
       "4           Spätzligratin \"Zürcher Art\"        CHF 8.00   \n",
       "\n",
       "                                    Daily Favourites Daily Favourites Price  \\\n",
       "0  Ofenfleischkäse an Zwiebelsauce mit Stock und ...               CHF 9.50   \n",
       "1      Poulet Cordon Bleu mit Spiralen und Rosenkohl               CHF 9.50   \n",
       "2          Rindsbraten an Jus mit Spätzli und Bohnen               CHF 9.50   \n",
       "3             Rinds Stroganoff mit Reis und Broccoli               CHF 9.50   \n",
       "4    Kalbsbraten Schmorjus mit Polenta und Zucchetti               CHF 9.50   \n",
       "\n",
       "                                           Lifestyle Lifestyle Price  \n",
       "0               Mexicaneintopf in der Weizentortilla        CHF 8.50  \n",
       "1                                      Gemüse Paella        CHF 8.50  \n",
       "2                                 Pasta mit Spargeln        CHF 8.50  \n",
       "3  Kartoffelpfanne mit Lauch,  Peperoni,  und Kürbis        CHF 8.50  \n",
       "4                         Kräuter Cous Cous mit Tofu        CHF 8.50  "
      ]
     },
     "execution_count": 7,
     "metadata": {},
     "output_type": "execute_result"
    }
   ],
   "source": [
    "df_mensa_fhs.head()"
   ]
  },
  {
   "cell_type": "code",
   "execution_count": 8,
   "metadata": {},
   "outputs": [
    {
     "name": "stdout",
     "output_type": "stream",
     "text": [
      "[\n",
      "    {\n",
      "        \"mensa\": \"hsg\",\n",
      "        \"content\": {\n",
      "            \"Fast Lane\": \"Spaghetti Carbonara mit Reibk\\u00e4se\",\n",
      "            \"Fast Lane Price\": \"CHF 6.30\",\n",
      "            \"Daily Favourites\": \"Schweinsbratwurstmit Zwiebelsauce,  R\\u00f6stiund Gem\\u00fcse\",\n",
      "            \"Daily Favourites Price\": \"CHF 10.50\",\n",
      "            \"Lifestyle\": \"Kichererbsen\\\"Stro mit Couscous und Romanesco  E, F, H, L, N\",\n",
      "            \"Lifestyle Price\": \"CHF 8.90\"\n",
      "        }\n",
      "    },\n",
      "    {\n",
      "        \"mensa\": \"fhs\",\n",
      "        \"content\": {\n",
      "            \"Fast Lane\": \"Poulet Casimir Mit Reis\",\n",
      "            \"Fast Lane Price\": \"CHF 8.00\",\n",
      "            \"Daily Favourites\": \"Ofenfleischk\\u00e4se an Zwiebelsauce mit Stock und Karotten\",\n",
      "            \"Daily Favourites Price\": \"CHF 9.50\",\n",
      "            \"Lifestyle\": \"Mexicaneintopf in der Weizentortilla\",\n",
      "            \"Lifestyle Price\": \"CHF 8.50\"\n",
      "        }\n",
      "    }\n",
      "]\n"
     ]
    }
   ],
   "source": [
    "# get the mensa menue for today\n",
    "from mepy.mensaExtractor import get_today_menue\n",
    "\n",
    "today_menue = get_today_menue(mensa_locations=[\"hsg\", \"fhs\"])\n",
    "\n",
    "# for visualisation purposes, we format the json output\n",
    "import json\n",
    "print(json.dumps(today_menue, indent=4))"
   ]
  },
  {
   "cell_type": "code",
   "execution_count": 9,
   "metadata": {},
   "outputs": [
    {
     "name": "stdout",
     "output_type": "stream",
     "text": [
      "[{'mensa': 'hsg', 'content': {'Fast Lane': 'Spaghetti Carbonara mit Reibkäse', 'Fast Lane Price': 'CHF 6.30', 'Daily Favourites': 'Schweinsbratwurstmit Zwiebelsauce,  Röstiund Gemüse', 'Daily Favourites Price': 'CHF 10.50', 'Lifestyle': 'Kichererbsen\"Stro mit Couscous und Romanesco  E, F, H, L, N', 'Lifestyle Price': 'CHF 8.90'}}, {'mensa': 'fhs', 'content': {'Fast Lane': 'Poulet Casimir Mit Reis', 'Fast Lane Price': 'CHF 8.00', 'Daily Favourites': 'Ofenfleischkäse an Zwiebelsauce mit Stock und Karotten', 'Daily Favourites Price': 'CHF 9.50', 'Lifestyle': 'Mexicaneintopf in der Weizentortilla', 'Lifestyle Price': 'CHF 8.50'}}]\n"
     ]
    }
   ],
   "source": [
    "# get the mensa menue for this weeks monday (day=0):\n",
    "from mepy.mensaExtractor import get_day_menue\n",
    "\n",
    "day_menue = get_day_menue(day=0, mensa_locations=[\"hsg\", \"fhs\"], export_json=False)\n",
    "print(day_menue)"
   ]
  },
  {
   "cell_type": "code",
   "execution_count": 10,
   "metadata": {},
   "outputs": [
    {
     "name": "stdout",
     "output_type": "stream",
     "text": [
      "[{'mensa': 'hsg', 'content': {'Fast Lane': 'Spaghetti Carbonara mit Reibkäse', 'Fast Lane Price': 'CHF 6.30', 'Daily Favourites': 'Schweinsbratwurstmit Zwiebelsauce,  Röstiund Gemüse', 'Daily Favourites Price': 'CHF 10.50', 'Lifestyle': 'Kichererbsen\"Stro mit Couscous und Romanesco  E, F, H, L, N', 'Lifestyle Price': 'CHF 8.90'}}, {'mensa': 'fhs', 'content': {'Fast Lane': 'Poulet Casimir Mit Reis', 'Fast Lane Price': 'CHF 8.00', 'Daily Favourites': 'Ofenfleischkäse an Zwiebelsauce mit Stock und Karotten', 'Daily Favourites Price': 'CHF 9.50', 'Lifestyle': 'Mexicaneintopf in der Weizentortilla', 'Lifestyle Price': 'CHF 8.50'}}]\n"
     ]
    }
   ],
   "source": [
    "# get the mensa menue for this weeks monday (day=0):\n",
    "from mepy.mensaExtractor import get_day_menue_with_futures\n",
    "\n",
    "day_menue = get_day_menue_with_futures(day=0, mensa_locations=[\"hsg\", \"fhs\"], export_json=False)\n",
    "print(day_menue)"
   ]
  },
  {
   "cell_type": "code",
   "execution_count": null,
   "metadata": {},
   "outputs": [],
   "source": []
  }
 ],
 "metadata": {
  "kernelspec": {
   "display_name": "PlaygroundSSM",
   "language": "python",
   "name": "python3"
  },
  "language_info": {
   "codemirror_mode": {
    "name": "ipython",
    "version": 3
   },
   "file_extension": ".py",
   "mimetype": "text/x-python",
   "name": "python",
   "nbconvert_exporter": "python",
   "pygments_lexer": "ipython3",
   "version": "3.11.11"
  }
 },
 "nbformat": 4,
 "nbformat_minor": 2
}
