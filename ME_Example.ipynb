{
 "cells": [
  {
   "cell_type": "markdown",
   "metadata": {},
   "source": [
    "# MensaExtractor Playground"
   ]
  },
  {
   "cell_type": "code",
   "execution_count": 1,
   "metadata": {},
   "outputs": [],
   "source": [
    "# Install dependencies:\n",
    "%pip install requests pandas pdfplumber"
   ]
  },
  {
   "cell_type": "code",
   "execution_count": 2,
   "metadata": {},
   "outputs": [],
   "source": [
    "# Import the function\n",
    "from mepy.mensaExtractor import get_mensaplan"
   ]
  },
  {
   "cell_type": "code",
   "execution_count": 3,
   "metadata": {},
   "outputs": [],
   "source": [
    "# get the mensaplan as a pandas dataframe from the HSG\n",
    "df_mensa_hsg = get_mensaplan(\n",
    "    week=1, # week 1 = current week, week 2 = next week\n",
    "    mensa_location=\"hsg\", # set mensa location to hsg\n",
    "    path=\"mensaplan_hsg.pdf\", # set the name of the mensaplan pdf file\n",
    "    get_pdf=False # set to True to keep the pdf file\n",
    ")"
   ]
  },
  {
   "cell_type": "code",
   "execution_count": 4,
   "metadata": {},
   "outputs": [
    {
     "data": {
      "text/html": [
       "<div>\n",
       "<style scoped>\n",
       "    .dataframe tbody tr th:only-of-type {\n",
       "        vertical-align: middle;\n",
       "    }\n",
       "\n",
       "    .dataframe tbody tr th {\n",
       "        vertical-align: top;\n",
       "    }\n",
       "\n",
       "    .dataframe thead th {\n",
       "        text-align: right;\n",
       "    }\n",
       "</style>\n",
       "<table border=\"1\" class=\"dataframe\">\n",
       "  <thead>\n",
       "    <tr style=\"text-align: right;\">\n",
       "      <th></th>\n",
       "      <th>Fast Lane</th>\n",
       "      <th>Fast Lane Price</th>\n",
       "      <th>Daily Favourites</th>\n",
       "      <th>Daily Favourites Price</th>\n",
       "      <th>Lifestyle</th>\n",
       "      <th>Lifestyle Price</th>\n",
       "    </tr>\n",
       "  </thead>\n",
       "  <tbody>\n",
       "    <tr>\n",
       "      <th>0</th>\n",
       "      <td>G`Hacketsmit Hörnli und Reibkäse</td>\n",
       "      <td>CHF 6.30</td>\n",
       "      <td>Beefballs mit rassiger Tomatensauce,  Reis und...</td>\n",
       "      <td>CHF 10.50</td>\n",
       "      <td>Gemüseschnitzel mit Bratkartoffelnun Peperonat...</td>\n",
       "      <td>CHF 8.90</td>\n",
       "    </tr>\n",
       "    <tr>\n",
       "      <th>1</th>\n",
       "      <td>Lasagne \"Vegetariana\" mit frischem Gemüse und ...</td>\n",
       "      <td>CHF 6.30</td>\n",
       "      <td>Rindsfleischvogel Mit Kartoffelstock und Karotten</td>\n",
       "      <td>CHF 10.50</td>\n",
       "      <td>Risotto\"Nonna\" mit Pilzendazu ein M  A, F, G, ...</td>\n",
       "      <td>CHF 8.60</td>\n",
       "    </tr>\n",
       "    <tr>\n",
       "      <th>2</th>\n",
       "      <td>Schupfnudelpfanne und Gemüse und Käse</td>\n",
       "      <td>CHF 6.30</td>\n",
       "      <td>Schweinshalsbraten mit Jus, Polenta und Bohnen</td>\n",
       "      <td>CHF 10.50</td>\n",
       "      <td>Gemüsecurry mit To Jasminreis und Men  A, E, F...</td>\n",
       "      <td>CHF 8.90</td>\n",
       "    </tr>\n",
       "    <tr>\n",
       "      <th>3</th>\n",
       "      <td>Bami Goreng mit Quornund asiatischem Gemüse</td>\n",
       "      <td>CHF 6.30</td>\n",
       "      <td>Poulet-Piccatamit Tomatennudeln und Zucchetti</td>\n",
       "      <td>CHF 10.50</td>\n",
       "      <td>Chillisin Carne mit Cous-Cousund R  A, F, G, L...</td>\n",
       "      <td>CHF 8.90</td>\n",
       "    </tr>\n",
       "    <tr>\n",
       "      <th>4</th>\n",
       "      <td>\"Riz Casimir\" mit Früchtenund Reis</td>\n",
       "      <td>CHF 6.30</td>\n",
       "      <td>Brätkügelimit Pilzrahmsauce Fusilli und Gemüse</td>\n",
       "      <td>CHF 10.50</td>\n",
       "      <td>Gemüsegulasch mit Ebly und Gemüs  A, F, G, L e</td>\n",
       "      <td>CHF 8.90</td>\n",
       "    </tr>\n",
       "  </tbody>\n",
       "</table>\n",
       "</div>"
      ],
      "text/plain": [
       "                                           Fast Lane Fast Lane Price  \\\n",
       "0                   G`Hacketsmit Hörnli und Reibkäse        CHF 6.30   \n",
       "1  Lasagne \"Vegetariana\" mit frischem Gemüse und ...        CHF 6.30   \n",
       "2              Schupfnudelpfanne und Gemüse und Käse        CHF 6.30   \n",
       "3        Bami Goreng mit Quornund asiatischem Gemüse        CHF 6.30   \n",
       "4                 \"Riz Casimir\" mit Früchtenund Reis        CHF 6.30   \n",
       "\n",
       "                                    Daily Favourites Daily Favourites Price  \\\n",
       "0  Beefballs mit rassiger Tomatensauce,  Reis und...              CHF 10.50   \n",
       "1  Rindsfleischvogel Mit Kartoffelstock und Karotten              CHF 10.50   \n",
       "2     Schweinshalsbraten mit Jus, Polenta und Bohnen              CHF 10.50   \n",
       "3      Poulet-Piccatamit Tomatennudeln und Zucchetti              CHF 10.50   \n",
       "4     Brätkügelimit Pilzrahmsauce Fusilli und Gemüse              CHF 10.50   \n",
       "\n",
       "                                           Lifestyle Lifestyle Price  \n",
       "0  Gemüseschnitzel mit Bratkartoffelnun Peperonat...        CHF 8.90  \n",
       "1  Risotto\"Nonna\" mit Pilzendazu ein M  A, F, G, ...        CHF 8.60  \n",
       "2  Gemüsecurry mit To Jasminreis und Men  A, E, F...        CHF 8.90  \n",
       "3  Chillisin Carne mit Cous-Cousund R  A, F, G, L...        CHF 8.90  \n",
       "4     Gemüsegulasch mit Ebly und Gemüs  A, F, G, L e        CHF 8.90  "
      ]
     },
     "execution_count": 4,
     "metadata": {},
     "output_type": "execute_result"
    }
   ],
   "source": [
    "df_mensa_hsg.head()"
   ]
  },
  {
   "cell_type": "code",
   "execution_count": 5,
   "metadata": {},
   "outputs": [],
   "source": [
    "# get the mensaplan as a pandas dataframe from the fhs (OST)\n",
    "df_mensa_fhs = get_mensaplan(\n",
    "    week=1,\n",
    "    mensa_location=\"fhs\", \n",
    "    path=\"mensaplan_fhs.pdf\", \n",
    "    get_pdf=False\n",
    ")"
   ]
  },
  {
   "cell_type": "code",
   "execution_count": 6,
   "metadata": {},
   "outputs": [
    {
     "data": {
      "text/html": [
       "<div>\n",
       "<style scoped>\n",
       "    .dataframe tbody tr th:only-of-type {\n",
       "        vertical-align: middle;\n",
       "    }\n",
       "\n",
       "    .dataframe tbody tr th {\n",
       "        vertical-align: top;\n",
       "    }\n",
       "\n",
       "    .dataframe thead th {\n",
       "        text-align: right;\n",
       "    }\n",
       "</style>\n",
       "<table border=\"1\" class=\"dataframe\">\n",
       "  <thead>\n",
       "    <tr style=\"text-align: right;\">\n",
       "      <th></th>\n",
       "      <th>Fast Lane</th>\n",
       "      <th>Fast Lane Price</th>\n",
       "      <th>Daily Favourites</th>\n",
       "      <th>Daily Favourites Price</th>\n",
       "      <th>Lifestyle</th>\n",
       "      <th>Lifestyle Price</th>\n",
       "    </tr>\n",
       "  </thead>\n",
       "  <tbody>\n",
       "    <tr>\n",
       "      <th>0</th>\n",
       "      <td>Risotto mit Kresse</td>\n",
       "      <td>CHF 8.00</td>\n",
       "      <td>Poulet-Spiess TEX –MEX Mit Ofenkartoffel und S...</td>\n",
       "      <td>CHF 9.50</td>\n",
       "      <td>Pilzstroganoffmit Ebly</td>\n",
       "      <td>CHF 8.50</td>\n",
       "    </tr>\n",
       "    <tr>\n",
       "      <th>1</th>\n",
       "      <td>Beefballsan Jus mit Knöpfli</td>\n",
       "      <td>CHF 8.00</td>\n",
       "      <td>Holzfäller Cordon Bleu mit Bratkartoffeln Kräu...</td>\n",
       "      <td>CHF 9.50</td>\n",
       "      <td>Süss-Sauer mit Gemüse und Klebreis</td>\n",
       "      <td>CHF 8.50</td>\n",
       "    </tr>\n",
       "    <tr>\n",
       "      <th>2</th>\n",
       "      <td>Lasagne Fiorentina</td>\n",
       "      <td>CHF 8.00</td>\n",
       "      <td>Schweinsgeschnetzteltes Sataysauce mit Jasminr...</td>\n",
       "      <td>CHF 9.50</td>\n",
       "      <td>Bulgurpfannemit Gemüse</td>\n",
       "      <td>CHF 8.50</td>\n",
       "    </tr>\n",
       "    <tr>\n",
       "      <th>3</th>\n",
       "      <td>Appenzeller Chäshörnli</td>\n",
       "      <td>CHF 8.00</td>\n",
       "      <td>Pouletpicatta Tomatenspaghetti und Blumenkohl</td>\n",
       "      <td>CHF 9.50</td>\n",
       "      <td>Veganer Gyros mit Gemüsereis</td>\n",
       "      <td>CHF 8.50</td>\n",
       "    </tr>\n",
       "    <tr>\n",
       "      <th>4</th>\n",
       "      <td>Paella</td>\n",
       "      <td>CHF 8.00</td>\n",
       "      <td>Schweinsvoressen Kartoffelgratin und Bohnen</td>\n",
       "      <td>CHF 9.50</td>\n",
       "      <td>Linsen Bolognese mit Pasta</td>\n",
       "      <td>CHF 8.50</td>\n",
       "    </tr>\n",
       "  </tbody>\n",
       "</table>\n",
       "</div>"
      ],
      "text/plain": [
       "                     Fast Lane Fast Lane Price  \\\n",
       "0           Risotto mit Kresse        CHF 8.00   \n",
       "1  Beefballsan Jus mit Knöpfli        CHF 8.00   \n",
       "2           Lasagne Fiorentina        CHF 8.00   \n",
       "3       Appenzeller Chäshörnli        CHF 8.00   \n",
       "4                       Paella        CHF 8.00   \n",
       "\n",
       "                                    Daily Favourites Daily Favourites Price  \\\n",
       "0  Poulet-Spiess TEX –MEX Mit Ofenkartoffel und S...               CHF 9.50   \n",
       "1  Holzfäller Cordon Bleu mit Bratkartoffeln Kräu...               CHF 9.50   \n",
       "2  Schweinsgeschnetzteltes Sataysauce mit Jasminr...               CHF 9.50   \n",
       "3      Pouletpicatta Tomatenspaghetti und Blumenkohl               CHF 9.50   \n",
       "4        Schweinsvoressen Kartoffelgratin und Bohnen               CHF 9.50   \n",
       "\n",
       "                            Lifestyle Lifestyle Price  \n",
       "0              Pilzstroganoffmit Ebly        CHF 8.50  \n",
       "1  Süss-Sauer mit Gemüse und Klebreis        CHF 8.50  \n",
       "2              Bulgurpfannemit Gemüse        CHF 8.50  \n",
       "3        Veganer Gyros mit Gemüsereis        CHF 8.50  \n",
       "4          Linsen Bolognese mit Pasta        CHF 8.50  "
      ]
     },
     "execution_count": 6,
     "metadata": {},
     "output_type": "execute_result"
    }
   ],
   "source": [
    "df_mensa_fhs.head()"
   ]
  },
  {
   "cell_type": "code",
   "execution_count": null,
   "metadata": {},
   "outputs": [
    {
     "name": "stdout",
     "output_type": "stream",
     "text": [
      "[\n",
      "    {\n",
      "        \"mensa\": \"hsg\",\n",
      "        \"content\": {\n",
      "            \"Fast Lane\": \"G`Hacketsmit Hörnli und Reibkäse\",\n",
      "            \"Fast Lane Price\": \"CHF 6.30\",\n",
      "            \"Daily Favourites\": \"Beefballs mit rassiger Tomatensauce,  Reis und Broccoli\",\n",
      "            \"Daily Favourites Price\": \"CHF 10.50\",\n",
      "            \"Lifestyle\": \"Gemüseschnitzel mit Bratkartoffelnun Peperonata  A, C, F, G, H, L d\",\n",
      "            \"Lifestyle Price\": \"CHF 8.90\"\n",
      "        }\n",
      "    },\n",
      "    {\n",
      "        \"mensa\": \"fhs\",\n",
      "        \"content\": {\n",
      "            \"Fast Lane\": \"Risotto mit Kresse\",\n",
      "            \"Fast Lane Price\": \"CHF 8.00\",\n",
      "            \"Daily Favourites\": \"Poulet-Spiess TEX –MEX Mit Ofenkartoffel und Sourcremedazu Maisgemüse\",\n",
      "            \"Daily Favourites Price\": \"CHF 9.50\",\n",
      "            \"Lifestyle\": \"Pilzstroganoffmit Ebly\",\n",
      "            \"Lifestyle Price\": \"CHF 8.50\"\n",
      "        }\n",
      "    }\n",
      "]\n"
     ]
    }
   ],
   "source": [
    "# get the mensa menue for this weeks monday (day=0):\n",
    "from mepy.mensaExtractor import get_day_menue\n",
    "\n",
    "day_menue = get_day_menue(day=0, mensa_locations=[\"hsg\", \"fhs\"], export_json=False)\n",
    "print(day_menue)\n"
   ]
  },
  {
   "cell_type": "code",
   "execution_count": 8,
   "metadata": {},
   "outputs": [
    {
     "name": "stdout",
     "output_type": "stream",
     "text": [
      "[\n",
      "    {\n",
      "        \"mensa\": \"hsg\",\n",
      "        \"content\": {\n",
      "            \"Fast Lane\": \"G`Hacketsmit Hörnli und Reibkäse\",\n",
      "            \"Fast Lane Price\": \"CHF 6.30\",\n",
      "            \"Daily Favourites\": \"Beefballs mit rassiger Tomatensauce,  Reis und Broccoli\",\n",
      "            \"Daily Favourites Price\": \"CHF 10.50\",\n",
      "            \"Lifestyle\": \"Gemüseschnitzel mit Bratkartoffelnun Peperonata  A, C, F, G, H, L d\",\n",
      "            \"Lifestyle Price\": \"CHF 8.90\"\n",
      "        }\n",
      "    },\n",
      "    {\n",
      "        \"mensa\": \"fhs\",\n",
      "        \"content\": {\n",
      "            \"Fast Lane\": \"Risotto mit Kresse\",\n",
      "            \"Fast Lane Price\": \"CHF 8.00\",\n",
      "            \"Daily Favourites\": \"Poulet-Spiess TEX –MEX Mit Ofenkartoffel und Sourcremedazu Maisgemüse\",\n",
      "            \"Daily Favourites Price\": \"CHF 9.50\",\n",
      "            \"Lifestyle\": \"Pilzstroganoffmit Ebly\",\n",
      "            \"Lifestyle Price\": \"CHF 8.50\"\n",
      "        }\n",
      "    }\n",
      "]\n"
     ]
    }
   ],
   "source": [
    "# get the mensa menue for this weeks monday (day=0):\n",
    "from mepy.mensaExtractor import get_day_menue_with_futures\n",
    "\n",
    "day_menue = get_day_menue_with_futures(day=0, mensa_locations=[\"hsg\", \"fhs\"], export_json=False)\n",
    "print(day_menue)"
   ]
  },
  {
   "cell_type": "code",
   "execution_count": 9,
   "metadata": {},
   "outputs": [
    {
     "name": "stdout",
     "output_type": "stream",
     "text": [
      "[\n",
      "    {\n",
      "        \"mensa\": \"hsg\",\n",
      "        \"content\": {\n",
      "            \"Fast Lane\": \"\\\"Riz Casimir\\\" mit Früchtenund Reis\",\n",
      "            \"Fast Lane Price\": \"CHF 6.30\",\n",
      "            \"Daily Favourites\": \"Brätkügelimit Pilzrahmsauce Fusilli und Gemüse\",\n",
      "            \"Daily Favourites Price\": \"CHF 10.50\",\n",
      "            \"Lifestyle\": \"Gemüsegulasch mit Ebly und Gemüs  A, F, G, L e\",\n",
      "            \"Lifestyle Price\": \"CHF 8.90\"\n",
      "        }\n",
      "    },\n",
      "    {\n",
      "        \"mensa\": \"fhs\",\n",
      "        \"content\": {\n",
      "            \"Fast Lane\": \"Paella\",\n",
      "            \"Fast Lane Price\": \"CHF 8.00\",\n",
      "            \"Daily Favourites\": \"Schweinsvoressen Kartoffelgratin und Bohnen\",\n",
      "            \"Daily Favourites Price\": \"CHF 9.50\",\n",
      "            \"Lifestyle\": \"Linsen Bolognese mit Pasta\",\n",
      "            \"Lifestyle Price\": \"CHF 8.50\"\n",
      "        }\n",
      "    }\n",
      "]\n"
     ]
    }
   ],
   "source": [
    "# get the mensa menue for today\n",
    "from mepy.mensaExtractor import get_today_menue\n",
    "\n",
    "today_menue = get_today_menue(mensa_locations=[\"hsg\", \"fhs\"])\n",
    "print(today_menue)"
   ]
  },
  {
   "cell_type": "code",
   "execution_count": null,
   "metadata": {},
   "outputs": [],
   "source": []
  }
 ],
 "metadata": {
  "kernelspec": {
   "display_name": "PlaygroundSSM",
   "language": "python",
   "name": "python3"
  },
  "language_info": {
   "codemirror_mode": {
    "name": "ipython",
    "version": 3
   },
   "file_extension": ".py",
   "mimetype": "text/x-python",
   "name": "python",
   "nbconvert_exporter": "python",
   "pygments_lexer": "ipython3",
   "version": "3.11.11"
  }
 },
 "nbformat": 4,
 "nbformat_minor": 2
}
